{
  "nbformat": 4,
  "nbformat_minor": 0,
  "metadata": {
    "colab": {
      "provenance": [],
      "authorship_tag": "ABX9TyOPOVEYhM0aPFAfbyEQUXS3",
      "include_colab_link": true
    },
    "kernelspec": {
      "name": "python3",
      "display_name": "Python 3"
    },
    "language_info": {
      "name": "python"
    }
  },
  "cells": [
    {
      "cell_type": "markdown",
      "metadata": {
        "id": "view-in-github",
        "colab_type": "text"
      },
      "source": [
        "<a href=\"https://colab.research.google.com/github/AntoninaRemizova/Minor/blob/main/%D0%A0%D0%B5%D0%BC%D0%B8%D0%B7%D0%BE%D0%B2%D0%B0_%D0%B4%D0%B73_(%D0%92%D0%B5%D1%82%D0%B2%D1%8F%D1%89%D0%B8%D0%B5%D1%81%D1%8F_%D0%BF%D1%80%D0%BE%D1%86%D0%B5%D1%81%D1%81%D1%8B).ipynb\" target=\"_parent\"><img src=\"https://colab.research.google.com/assets/colab-badge.svg\" alt=\"Open In Colab\"/></a>"
      ]
    },
    {
      "cell_type": "markdown",
      "source": [
        "# Импорт библиотек"
      ],
      "metadata": {
        "id": "jiVT_rOnGaEU"
      }
    },
    {
      "cell_type": "code",
      "source": [
        "import pandas as pd\n",
        "import numpy as np\n",
        "import matplotlib.pyplot as plt\n",
        "from statsmodels.tsa.seasonal import seasonal_decompose"
      ],
      "metadata": {
        "id": "vOQuYiQpGfyr"
      },
      "execution_count": 1,
      "outputs": []
    },
    {
      "cell_type": "markdown",
      "source": [
        "# Загрузка данных"
      ],
      "metadata": {
        "id": "jFiumE6yGhKy"
      }
    },
    {
      "cell_type": "code",
      "source": [
        "url = \"https://raw.githubusercontent.com/AntoninaRemizova/Minor/main/Japan.xlsx\"\n",
        "data = pd.read_excel(url)\n",
        "data['Дата'] = pd.to_datetime(data['Дата'], dayfirst=True, format='%d.%m.%Y')\n",
        "data"
      ],
      "metadata": {
        "colab": {
          "base_uri": "https://localhost:8080/",
          "height": 423
        },
        "id": "GHvL2Ve2GjbM",
        "outputId": "a54c3586-c69f-4d4d-a24e-abf41fb3ea71"
      },
      "execution_count": 2,
      "outputs": [
        {
          "output_type": "execute_result",
          "data": {
            "text/plain": [
              "     Страна       Дата  Заражений  Выздоровлений  Смертей  Заражений за день  \\\n",
              "0    Япония 2020-07-20      25680        19603.0      988                418   \n",
              "1    Япония 2020-07-21      26312        20001.0      989                632   \n",
              "2    Япония 2020-07-22      27107        20482.0      990                795   \n",
              "3    Япония 2020-07-23      28088        20878.0      992                981   \n",
              "4    Япония 2020-07-24      28867        21173.0      995                779   \n",
              "..      ...        ...        ...            ...      ...                ...   \n",
              "604  Япония 2022-03-16    5913591            NaN    26625              57822   \n",
              "605  Япония 2022-03-17    5967069            NaN    26796              53478   \n",
              "606  Япония 2022-03-18    6016178            NaN    26952              49109   \n",
              "607  Япония 2022-03-19    6060771            NaN    27056              44593   \n",
              "608  Япония 2022-03-20    6100331            NaN    27122              39560   \n",
              "\n",
              "     Выздоровлений за день  Смертей за день  Население страны    Тестов  \\\n",
              "0                    392.0                2         127110047    562726   \n",
              "1                    398.0                1         127110047    579083   \n",
              "2                    481.0                1         127110047    587393   \n",
              "3                    396.0                2         127110047    593088   \n",
              "4                    295.0                3         127110047    602618   \n",
              "..                     ...              ...               ...       ...   \n",
              "604                    NaN              163         127110047  40063837   \n",
              "605                    NaN              171         127110047  40240745   \n",
              "606                    NaN              156         127110047  40335554   \n",
              "607                    NaN              104         127110047  40388920   \n",
              "608                    NaN               66         127110047         0   \n",
              "\n",
              "     Тестов за день  \n",
              "0             12114  \n",
              "1             16357  \n",
              "2              8310  \n",
              "3              5695  \n",
              "4              9530  \n",
              "..              ...  \n",
              "604          156343  \n",
              "605          176908  \n",
              "606           94809  \n",
              "607           53366  \n",
              "608               0  \n",
              "\n",
              "[609 rows x 11 columns]"
            ],
            "text/html": [
              "\n",
              "  <div id=\"df-04dde6d1-2fbf-4a50-bda9-43f363bbc4a0\" class=\"colab-df-container\">\n",
              "    <div>\n",
              "<style scoped>\n",
              "    .dataframe tbody tr th:only-of-type {\n",
              "        vertical-align: middle;\n",
              "    }\n",
              "\n",
              "    .dataframe tbody tr th {\n",
              "        vertical-align: top;\n",
              "    }\n",
              "\n",
              "    .dataframe thead th {\n",
              "        text-align: right;\n",
              "    }\n",
              "</style>\n",
              "<table border=\"1\" class=\"dataframe\">\n",
              "  <thead>\n",
              "    <tr style=\"text-align: right;\">\n",
              "      <th></th>\n",
              "      <th>Страна</th>\n",
              "      <th>Дата</th>\n",
              "      <th>Заражений</th>\n",
              "      <th>Выздоровлений</th>\n",
              "      <th>Смертей</th>\n",
              "      <th>Заражений за день</th>\n",
              "      <th>Выздоровлений за день</th>\n",
              "      <th>Смертей за день</th>\n",
              "      <th>Население страны</th>\n",
              "      <th>Тестов</th>\n",
              "      <th>Тестов за день</th>\n",
              "    </tr>\n",
              "  </thead>\n",
              "  <tbody>\n",
              "    <tr>\n",
              "      <th>0</th>\n",
              "      <td>Япония</td>\n",
              "      <td>2020-07-20</td>\n",
              "      <td>25680</td>\n",
              "      <td>19603.0</td>\n",
              "      <td>988</td>\n",
              "      <td>418</td>\n",
              "      <td>392.0</td>\n",
              "      <td>2</td>\n",
              "      <td>127110047</td>\n",
              "      <td>562726</td>\n",
              "      <td>12114</td>\n",
              "    </tr>\n",
              "    <tr>\n",
              "      <th>1</th>\n",
              "      <td>Япония</td>\n",
              "      <td>2020-07-21</td>\n",
              "      <td>26312</td>\n",
              "      <td>20001.0</td>\n",
              "      <td>989</td>\n",
              "      <td>632</td>\n",
              "      <td>398.0</td>\n",
              "      <td>1</td>\n",
              "      <td>127110047</td>\n",
              "      <td>579083</td>\n",
              "      <td>16357</td>\n",
              "    </tr>\n",
              "    <tr>\n",
              "      <th>2</th>\n",
              "      <td>Япония</td>\n",
              "      <td>2020-07-22</td>\n",
              "      <td>27107</td>\n",
              "      <td>20482.0</td>\n",
              "      <td>990</td>\n",
              "      <td>795</td>\n",
              "      <td>481.0</td>\n",
              "      <td>1</td>\n",
              "      <td>127110047</td>\n",
              "      <td>587393</td>\n",
              "      <td>8310</td>\n",
              "    </tr>\n",
              "    <tr>\n",
              "      <th>3</th>\n",
              "      <td>Япония</td>\n",
              "      <td>2020-07-23</td>\n",
              "      <td>28088</td>\n",
              "      <td>20878.0</td>\n",
              "      <td>992</td>\n",
              "      <td>981</td>\n",
              "      <td>396.0</td>\n",
              "      <td>2</td>\n",
              "      <td>127110047</td>\n",
              "      <td>593088</td>\n",
              "      <td>5695</td>\n",
              "    </tr>\n",
              "    <tr>\n",
              "      <th>4</th>\n",
              "      <td>Япония</td>\n",
              "      <td>2020-07-24</td>\n",
              "      <td>28867</td>\n",
              "      <td>21173.0</td>\n",
              "      <td>995</td>\n",
              "      <td>779</td>\n",
              "      <td>295.0</td>\n",
              "      <td>3</td>\n",
              "      <td>127110047</td>\n",
              "      <td>602618</td>\n",
              "      <td>9530</td>\n",
              "    </tr>\n",
              "    <tr>\n",
              "      <th>...</th>\n",
              "      <td>...</td>\n",
              "      <td>...</td>\n",
              "      <td>...</td>\n",
              "      <td>...</td>\n",
              "      <td>...</td>\n",
              "      <td>...</td>\n",
              "      <td>...</td>\n",
              "      <td>...</td>\n",
              "      <td>...</td>\n",
              "      <td>...</td>\n",
              "      <td>...</td>\n",
              "    </tr>\n",
              "    <tr>\n",
              "      <th>604</th>\n",
              "      <td>Япония</td>\n",
              "      <td>2022-03-16</td>\n",
              "      <td>5913591</td>\n",
              "      <td>NaN</td>\n",
              "      <td>26625</td>\n",
              "      <td>57822</td>\n",
              "      <td>NaN</td>\n",
              "      <td>163</td>\n",
              "      <td>127110047</td>\n",
              "      <td>40063837</td>\n",
              "      <td>156343</td>\n",
              "    </tr>\n",
              "    <tr>\n",
              "      <th>605</th>\n",
              "      <td>Япония</td>\n",
              "      <td>2022-03-17</td>\n",
              "      <td>5967069</td>\n",
              "      <td>NaN</td>\n",
              "      <td>26796</td>\n",
              "      <td>53478</td>\n",
              "      <td>NaN</td>\n",
              "      <td>171</td>\n",
              "      <td>127110047</td>\n",
              "      <td>40240745</td>\n",
              "      <td>176908</td>\n",
              "    </tr>\n",
              "    <tr>\n",
              "      <th>606</th>\n",
              "      <td>Япония</td>\n",
              "      <td>2022-03-18</td>\n",
              "      <td>6016178</td>\n",
              "      <td>NaN</td>\n",
              "      <td>26952</td>\n",
              "      <td>49109</td>\n",
              "      <td>NaN</td>\n",
              "      <td>156</td>\n",
              "      <td>127110047</td>\n",
              "      <td>40335554</td>\n",
              "      <td>94809</td>\n",
              "    </tr>\n",
              "    <tr>\n",
              "      <th>607</th>\n",
              "      <td>Япония</td>\n",
              "      <td>2022-03-19</td>\n",
              "      <td>6060771</td>\n",
              "      <td>NaN</td>\n",
              "      <td>27056</td>\n",
              "      <td>44593</td>\n",
              "      <td>NaN</td>\n",
              "      <td>104</td>\n",
              "      <td>127110047</td>\n",
              "      <td>40388920</td>\n",
              "      <td>53366</td>\n",
              "    </tr>\n",
              "    <tr>\n",
              "      <th>608</th>\n",
              "      <td>Япония</td>\n",
              "      <td>2022-03-20</td>\n",
              "      <td>6100331</td>\n",
              "      <td>NaN</td>\n",
              "      <td>27122</td>\n",
              "      <td>39560</td>\n",
              "      <td>NaN</td>\n",
              "      <td>66</td>\n",
              "      <td>127110047</td>\n",
              "      <td>0</td>\n",
              "      <td>0</td>\n",
              "    </tr>\n",
              "  </tbody>\n",
              "</table>\n",
              "<p>609 rows × 11 columns</p>\n",
              "</div>\n",
              "    <div class=\"colab-df-buttons\">\n",
              "\n",
              "  <div class=\"colab-df-container\">\n",
              "    <button class=\"colab-df-convert\" onclick=\"convertToInteractive('df-04dde6d1-2fbf-4a50-bda9-43f363bbc4a0')\"\n",
              "            title=\"Convert this dataframe to an interactive table.\"\n",
              "            style=\"display:none;\">\n",
              "\n",
              "  <svg xmlns=\"http://www.w3.org/2000/svg\" height=\"24px\" viewBox=\"0 -960 960 960\">\n",
              "    <path d=\"M120-120v-720h720v720H120Zm60-500h600v-160H180v160Zm220 220h160v-160H400v160Zm0 220h160v-160H400v160ZM180-400h160v-160H180v160Zm440 0h160v-160H620v160ZM180-180h160v-160H180v160Zm440 0h160v-160H620v160Z\"/>\n",
              "  </svg>\n",
              "    </button>\n",
              "\n",
              "  <style>\n",
              "    .colab-df-container {\n",
              "      display:flex;\n",
              "      gap: 12px;\n",
              "    }\n",
              "\n",
              "    .colab-df-convert {\n",
              "      background-color: #E8F0FE;\n",
              "      border: none;\n",
              "      border-radius: 50%;\n",
              "      cursor: pointer;\n",
              "      display: none;\n",
              "      fill: #1967D2;\n",
              "      height: 32px;\n",
              "      padding: 0 0 0 0;\n",
              "      width: 32px;\n",
              "    }\n",
              "\n",
              "    .colab-df-convert:hover {\n",
              "      background-color: #E2EBFA;\n",
              "      box-shadow: 0px 1px 2px rgba(60, 64, 67, 0.3), 0px 1px 3px 1px rgba(60, 64, 67, 0.15);\n",
              "      fill: #174EA6;\n",
              "    }\n",
              "\n",
              "    .colab-df-buttons div {\n",
              "      margin-bottom: 4px;\n",
              "    }\n",
              "\n",
              "    [theme=dark] .colab-df-convert {\n",
              "      background-color: #3B4455;\n",
              "      fill: #D2E3FC;\n",
              "    }\n",
              "\n",
              "    [theme=dark] .colab-df-convert:hover {\n",
              "      background-color: #434B5C;\n",
              "      box-shadow: 0px 1px 3px 1px rgba(0, 0, 0, 0.15);\n",
              "      filter: drop-shadow(0px 1px 2px rgba(0, 0, 0, 0.3));\n",
              "      fill: #FFFFFF;\n",
              "    }\n",
              "  </style>\n",
              "\n",
              "    <script>\n",
              "      const buttonEl =\n",
              "        document.querySelector('#df-04dde6d1-2fbf-4a50-bda9-43f363bbc4a0 button.colab-df-convert');\n",
              "      buttonEl.style.display =\n",
              "        google.colab.kernel.accessAllowed ? 'block' : 'none';\n",
              "\n",
              "      async function convertToInteractive(key) {\n",
              "        const element = document.querySelector('#df-04dde6d1-2fbf-4a50-bda9-43f363bbc4a0');\n",
              "        const dataTable =\n",
              "          await google.colab.kernel.invokeFunction('convertToInteractive',\n",
              "                                                    [key], {});\n",
              "        if (!dataTable) return;\n",
              "\n",
              "        const docLinkHtml = 'Like what you see? Visit the ' +\n",
              "          '<a target=\"_blank\" href=https://colab.research.google.com/notebooks/data_table.ipynb>data table notebook</a>'\n",
              "          + ' to learn more about interactive tables.';\n",
              "        element.innerHTML = '';\n",
              "        dataTable['output_type'] = 'display_data';\n",
              "        await google.colab.output.renderOutput(dataTable, element);\n",
              "        const docLink = document.createElement('div');\n",
              "        docLink.innerHTML = docLinkHtml;\n",
              "        element.appendChild(docLink);\n",
              "      }\n",
              "    </script>\n",
              "  </div>\n",
              "\n",
              "\n",
              "    <div id=\"df-5e4fbf24-db17-4acd-9f8a-92ae19268208\">\n",
              "      <button class=\"colab-df-quickchart\" onclick=\"quickchart('df-5e4fbf24-db17-4acd-9f8a-92ae19268208')\"\n",
              "                title=\"Suggest charts\"\n",
              "                style=\"display:none;\">\n",
              "\n",
              "<svg xmlns=\"http://www.w3.org/2000/svg\" height=\"24px\"viewBox=\"0 0 24 24\"\n",
              "     width=\"24px\">\n",
              "    <g>\n",
              "        <path d=\"M19 3H5c-1.1 0-2 .9-2 2v14c0 1.1.9 2 2 2h14c1.1 0 2-.9 2-2V5c0-1.1-.9-2-2-2zM9 17H7v-7h2v7zm4 0h-2V7h2v10zm4 0h-2v-4h2v4z\"/>\n",
              "    </g>\n",
              "</svg>\n",
              "      </button>\n",
              "\n",
              "<style>\n",
              "  .colab-df-quickchart {\n",
              "      --bg-color: #E8F0FE;\n",
              "      --fill-color: #1967D2;\n",
              "      --hover-bg-color: #E2EBFA;\n",
              "      --hover-fill-color: #174EA6;\n",
              "      --disabled-fill-color: #AAA;\n",
              "      --disabled-bg-color: #DDD;\n",
              "  }\n",
              "\n",
              "  [theme=dark] .colab-df-quickchart {\n",
              "      --bg-color: #3B4455;\n",
              "      --fill-color: #D2E3FC;\n",
              "      --hover-bg-color: #434B5C;\n",
              "      --hover-fill-color: #FFFFFF;\n",
              "      --disabled-bg-color: #3B4455;\n",
              "      --disabled-fill-color: #666;\n",
              "  }\n",
              "\n",
              "  .colab-df-quickchart {\n",
              "    background-color: var(--bg-color);\n",
              "    border: none;\n",
              "    border-radius: 50%;\n",
              "    cursor: pointer;\n",
              "    display: none;\n",
              "    fill: var(--fill-color);\n",
              "    height: 32px;\n",
              "    padding: 0;\n",
              "    width: 32px;\n",
              "  }\n",
              "\n",
              "  .colab-df-quickchart:hover {\n",
              "    background-color: var(--hover-bg-color);\n",
              "    box-shadow: 0 1px 2px rgba(60, 64, 67, 0.3), 0 1px 3px 1px rgba(60, 64, 67, 0.15);\n",
              "    fill: var(--button-hover-fill-color);\n",
              "  }\n",
              "\n",
              "  .colab-df-quickchart-complete:disabled,\n",
              "  .colab-df-quickchart-complete:disabled:hover {\n",
              "    background-color: var(--disabled-bg-color);\n",
              "    fill: var(--disabled-fill-color);\n",
              "    box-shadow: none;\n",
              "  }\n",
              "\n",
              "  .colab-df-spinner {\n",
              "    border: 2px solid var(--fill-color);\n",
              "    border-color: transparent;\n",
              "    border-bottom-color: var(--fill-color);\n",
              "    animation:\n",
              "      spin 1s steps(1) infinite;\n",
              "  }\n",
              "\n",
              "  @keyframes spin {\n",
              "    0% {\n",
              "      border-color: transparent;\n",
              "      border-bottom-color: var(--fill-color);\n",
              "      border-left-color: var(--fill-color);\n",
              "    }\n",
              "    20% {\n",
              "      border-color: transparent;\n",
              "      border-left-color: var(--fill-color);\n",
              "      border-top-color: var(--fill-color);\n",
              "    }\n",
              "    30% {\n",
              "      border-color: transparent;\n",
              "      border-left-color: var(--fill-color);\n",
              "      border-top-color: var(--fill-color);\n",
              "      border-right-color: var(--fill-color);\n",
              "    }\n",
              "    40% {\n",
              "      border-color: transparent;\n",
              "      border-right-color: var(--fill-color);\n",
              "      border-top-color: var(--fill-color);\n",
              "    }\n",
              "    60% {\n",
              "      border-color: transparent;\n",
              "      border-right-color: var(--fill-color);\n",
              "    }\n",
              "    80% {\n",
              "      border-color: transparent;\n",
              "      border-right-color: var(--fill-color);\n",
              "      border-bottom-color: var(--fill-color);\n",
              "    }\n",
              "    90% {\n",
              "      border-color: transparent;\n",
              "      border-bottom-color: var(--fill-color);\n",
              "    }\n",
              "  }\n",
              "</style>\n",
              "\n",
              "      <script>\n",
              "        async function quickchart(key) {\n",
              "          const quickchartButtonEl =\n",
              "            document.querySelector('#' + key + ' button');\n",
              "          quickchartButtonEl.disabled = true;  // To prevent multiple clicks.\n",
              "          quickchartButtonEl.classList.add('colab-df-spinner');\n",
              "          try {\n",
              "            const charts = await google.colab.kernel.invokeFunction(\n",
              "                'suggestCharts', [key], {});\n",
              "          } catch (error) {\n",
              "            console.error('Error during call to suggestCharts:', error);\n",
              "          }\n",
              "          quickchartButtonEl.classList.remove('colab-df-spinner');\n",
              "          quickchartButtonEl.classList.add('colab-df-quickchart-complete');\n",
              "        }\n",
              "        (() => {\n",
              "          let quickchartButtonEl =\n",
              "            document.querySelector('#df-5e4fbf24-db17-4acd-9f8a-92ae19268208 button');\n",
              "          quickchartButtonEl.style.display =\n",
              "            google.colab.kernel.accessAllowed ? 'block' : 'none';\n",
              "        })();\n",
              "      </script>\n",
              "    </div>\n",
              "    </div>\n",
              "  </div>\n"
            ],
            "application/vnd.google.colaboratory.intrinsic+json": {
              "type": "dataframe",
              "variable_name": "data",
              "summary": "{\n  \"name\": \"data\",\n  \"rows\": 609,\n  \"fields\": [\n    {\n      \"column\": \"\\u0421\\u0442\\u0440\\u0430\\u043d\\u0430\",\n      \"properties\": {\n        \"dtype\": \"category\",\n        \"num_unique_values\": 1,\n        \"samples\": [\n          \"\\u042f\\u043f\\u043e\\u043d\\u0438\\u044f\"\n        ],\n        \"semantic_type\": \"\",\n        \"description\": \"\"\n      }\n    },\n    {\n      \"column\": \"\\u0414\\u0430\\u0442\\u0430\",\n      \"properties\": {\n        \"dtype\": \"date\",\n        \"min\": \"2020-07-20 00:00:00\",\n        \"max\": \"2022-03-20 00:00:00\",\n        \"num_unique_values\": 609,\n        \"samples\": [\n          \"2021-05-07 00:00:00\"\n        ],\n        \"semantic_type\": \"\",\n        \"description\": \"\"\n      }\n    },\n    {\n      \"column\": \"\\u0417\\u0430\\u0440\\u0430\\u0436\\u0435\\u043d\\u0438\\u0439\",\n      \"properties\": {\n        \"dtype\": \"number\",\n        \"std\": 1259030,\n        \"min\": 25680,\n        \"max\": 6100331,\n        \"num_unique_values\": 609,\n        \"samples\": [\n          627778\n        ],\n        \"semantic_type\": \"\",\n        \"description\": \"\"\n      }\n    },\n    {\n      \"column\": \"\\u0412\\u044b\\u0437\\u0434\\u043e\\u0440\\u043e\\u0432\\u043b\\u0435\\u043d\\u0438\\u0439\",\n      \"properties\": {\n        \"dtype\": \"number\",\n        \"std\": 263283.0648968046,\n        \"min\": 19603.0,\n        \"max\": 852451.0,\n        \"num_unique_values\": 368,\n        \"samples\": [\n          203265.0\n        ],\n        \"semantic_type\": \"\",\n        \"description\": \"\"\n      }\n    },\n    {\n      \"column\": \"\\u0421\\u043c\\u0435\\u0440\\u0442\\u0435\\u0439\",\n      \"properties\": {\n        \"dtype\": \"number\",\n        \"std\": 7310,\n        \"min\": 988,\n        \"max\": 27122,\n        \"num_unique_values\": 589,\n        \"samples\": [\n          18403\n        ],\n        \"semantic_type\": \"\",\n        \"description\": \"\"\n      }\n    },\n    {\n      \"column\": \"\\u0417\\u0430\\u0440\\u0430\\u0436\\u0435\\u043d\\u0438\\u0439 \\u0437\\u0430 \\u0434\\u0435\\u043d\\u044c\",\n      \"properties\": {\n        \"dtype\": \"number\",\n        \"std\": 20911,\n        \"min\": 44,\n        \"max\": 104345,\n        \"num_unique_values\": 576,\n        \"samples\": [\n          1118\n        ],\n        \"semantic_type\": \"\",\n        \"description\": \"\"\n      }\n    },\n    {\n      \"column\": \"\\u0412\\u044b\\u0437\\u0434\\u043e\\u0440\\u043e\\u0432\\u043b\\u0435\\u043d\\u0438\\u0439 \\u0437\\u0430 \\u0434\\u0435\\u043d\\u044c\",\n      \"properties\": {\n        \"dtype\": \"number\",\n        \"std\": 1942.3274202760704,\n        \"min\": -9208.0,\n        \"max\": 10998.0,\n        \"num_unique_values\": 353,\n        \"samples\": [\n          1077.0\n        ],\n        \"semantic_type\": \"\",\n        \"description\": \"\"\n      }\n    },\n    {\n      \"column\": \"\\u0421\\u043c\\u0435\\u0440\\u0442\\u0435\\u0439 \\u0437\\u0430 \\u0434\\u0435\\u043d\\u044c\",\n      \"properties\": {\n        \"dtype\": \"number\",\n        \"std\": 51,\n        \"min\": 0,\n        \"max\": 322,\n        \"num_unique_values\": 143,\n        \"samples\": [\n          230\n        ],\n        \"semantic_type\": \"\",\n        \"description\": \"\"\n      }\n    },\n    {\n      \"column\": \"\\u041d\\u0430\\u0441\\u0435\\u043b\\u0435\\u043d\\u0438\\u0435 \\u0441\\u0442\\u0440\\u0430\\u043d\\u044b\",\n      \"properties\": {\n        \"dtype\": \"number\",\n        \"std\": 0,\n        \"min\": 127110047,\n        \"max\": 127110047,\n        \"num_unique_values\": 1,\n        \"samples\": [\n          127110047\n        ],\n        \"semantic_type\": \"\",\n        \"description\": \"\"\n      }\n    },\n    {\n      \"column\": \"\\u0422\\u0435\\u0441\\u0442\\u043e\\u0432\",\n      \"properties\": {\n        \"dtype\": \"number\",\n        \"std\": 11286269,\n        \"min\": 0,\n        \"max\": 40388920,\n        \"num_unique_values\": 609,\n        \"samples\": [\n          11733330\n        ],\n        \"semantic_type\": \"\",\n        \"description\": \"\"\n      }\n    },\n    {\n      \"column\": \"\\u0422\\u0435\\u0441\\u0442\\u043e\\u0432 \\u0437\\u0430 \\u0434\\u0435\\u043d\\u044c\",\n      \"properties\": {\n        \"dtype\": \"number\",\n        \"std\": 54479,\n        \"min\": 0,\n        \"max\": 316989,\n        \"num_unique_values\": 606,\n        \"samples\": [\n          228716\n        ],\n        \"semantic_type\": \"\",\n        \"description\": \"\"\n      }\n    }\n  ]\n}"
            }
          },
          "metadata": {},
          "execution_count": 2
        }
      ]
    },
    {
      "cell_type": "markdown",
      "source": [
        "# Нормировка"
      ],
      "metadata": {
        "id": "h_jtq00uGlux"
      }
    },
    {
      "cell_type": "code",
      "source": [
        "population = data['Население страны'].iloc[0]\n",
        "daily_infected = data['Заражений за день'].values[425:456]\n",
        "normalized_infected = (daily_infected / population) * 100000\n",
        "print(normalized_infected)"
      ],
      "metadata": {
        "colab": {
          "base_uri": "https://localhost:8080/"
        },
        "id": "3q7VLcu6GoDB",
        "outputId": "6bcf557d-033a-423d-c884-402c7822bd62"
      },
      "execution_count": 3,
      "outputs": [
        {
          "output_type": "stream",
          "name": "stdout",
          "text": [
            "[3.6975834  2.67170069 1.74730484 1.39249417 2.55133255 2.83297826\n",
            " 1.64817813 2.10054206 1.68043365 0.90315441 1.35473162 1.56006551\n",
            " 1.2390838  1.1360235  0.9778928  0.76075812 0.4712452  0.77019876\n",
            " 0.88505986 0.76469172 0.65061733 0.60892118 0.43505609 0.29029963\n",
            " 0.47753896 0.57509223 0.48540616 0.40673417 0.39335994 0.33671611\n",
            " 0.18094557]\n"
          ]
        }
      ]
    },
    {
      "cell_type": "code",
      "source": [
        "normalized_infected = normalized_infected.astype(int).round()\n",
        "print(normalized_infected)"
      ],
      "metadata": {
        "colab": {
          "base_uri": "https://localhost:8080/"
        },
        "id": "hdFB1YWyKEzB",
        "outputId": "65783e22-c6c8-40ab-9a09-86731a2e23ae"
      },
      "execution_count": 4,
      "outputs": [
        {
          "output_type": "stream",
          "name": "stdout",
          "text": [
            "[3 2 1 1 2 2 1 2 1 0 1 1 1 1 0 0 0 0 0 0 0 0 0 0 0 0 0 0 0 0 0]\n"
          ]
        }
      ]
    },
    {
      "cell_type": "markdown",
      "source": [
        "# Оценка среднего числа потомков ($\\mu$)"
      ],
      "metadata": {
        "id": "B3_OOJ9JGsKK"
      }
    },
    {
      "cell_type": "code",
      "source": [
        "mu_estimate = np.mean(normalized_infected)\n",
        "print(f\"Оценка среднего числа потомков (μ): {mu_estimate}\")"
      ],
      "metadata": {
        "colab": {
          "base_uri": "https://localhost:8080/"
        },
        "id": "dG-MmamgG66m",
        "outputId": "300552f2-8b35-4fae-baed-c00b40972f09"
      },
      "execution_count": 5,
      "outputs": [
        {
          "output_type": "stream",
          "name": "stdout",
          "text": [
            "Оценка среднего числа потомков (μ): 0.6129032258064516\n"
          ]
        }
      ]
    },
    {
      "cell_type": "markdown",
      "source": [
        "# Определение типа процесса"
      ],
      "metadata": {
        "id": "U8k9nBkMHI3K"
      }
    },
    {
      "cell_type": "code",
      "source": [
        "if mu_estimate < 1:\n",
        "    process_type = \"докритический\"\n",
        "elif mu_estimate == 1:\n",
        "    process_type = \"критический\"\n",
        "else:\n",
        "    process_type = \"надкритический\"\n",
        "print(f\"Тип процесса - {process_type}\")"
      ],
      "metadata": {
        "colab": {
          "base_uri": "https://localhost:8080/"
        },
        "id": "uON4d27yHMRJ",
        "outputId": "4765ce11-764e-457f-dc7e-443485035091"
      },
      "execution_count": 6,
      "outputs": [
        {
          "output_type": "stream",
          "name": "stdout",
          "text": [
            "Тип процесса - докритический\n"
          ]
        }
      ]
    },
    {
      "cell_type": "markdown",
      "source": [
        "# Оценка вероятности отсутствия потомков (p)"
      ],
      "metadata": {
        "id": "lyBjKhmrG6UW"
      }
    },
    {
      "cell_type": "code",
      "source": [
        "p_estimate = 1 / (mu_estimate + 1)\n",
        "print(f\"Оценка вероятности отсутствия потомков (p): {p_estimate}\")"
      ],
      "metadata": {
        "colab": {
          "base_uri": "https://localhost:8080/"
        },
        "id": "8dyNpA8RHEb_",
        "outputId": "fdd1db31-9363-431b-aa37-1eaccf1dd949"
      },
      "execution_count": 7,
      "outputs": [
        {
          "output_type": "stream",
          "name": "stdout",
          "text": [
            "Оценка вероятности отсутствия потомков (p): 0.62\n"
          ]
        }
      ]
    },
    {
      "cell_type": "markdown",
      "source": [
        "# Вероятность вырождения процесса"
      ],
      "metadata": {
        "id": "3IbqjE1fHTL6"
      }
    },
    {
      "cell_type": "code",
      "source": [
        "if p_estimate >= 0.5:\n",
        "    q_extinction = 1\n",
        "else:\n",
        "    q_extinction = p_estimate / (1 - p_estimate)\n",
        "print(f\"Вероятность вырождения: {q_extinction}\")"
      ],
      "metadata": {
        "colab": {
          "base_uri": "https://localhost:8080/"
        },
        "id": "rNsObPMZHbRo",
        "outputId": "dec90334-dd1a-4175-80b6-0d1f06992e8c"
      },
      "execution_count": 8,
      "outputs": [
        {
          "output_type": "stream",
          "name": "stdout",
          "text": [
            "Вероятность вырождения: 1\n"
          ]
        }
      ]
    },
    {
      "cell_type": "markdown",
      "source": [
        "# Среднее время до вырождения"
      ],
      "metadata": {
        "id": "wH3OFhOLHdnf"
      }
    },
    {
      "cell_type": "code",
      "source": [
        "if process_type == \"докритический\":\n",
        "    N = 1\n",
        "    ET = np.log(N) / np.abs(np.log(mu_estimate))\n",
        "    print(f\"Среднее время до вырождения: {ET} дней\")\n",
        "else:\n",
        "  print(\"Процесс не докритический\")"
      ],
      "metadata": {
        "colab": {
          "base_uri": "https://localhost:8080/"
        },
        "id": "1TAGRWo-HhDZ",
        "outputId": "a55257eb-8f17-41e2-d14e-32da214272d7"
      },
      "execution_count": 9,
      "outputs": [
        {
          "output_type": "stream",
          "name": "stdout",
          "text": [
            "Среднее время до вырождения: 0.0 дней\n"
          ]
        }
      ]
    },
    {
      "cell_type": "markdown",
      "source": [
        "# Моделирование 5 траекторий ветвящегося процесса"
      ],
      "metadata": {
        "id": "W9oLrsEiHl1U"
      }
    },
    {
      "cell_type": "code",
      "source": [
        "def simulate_branching_process(mu, days=30, trajectories=5):\n",
        "    np.random.seed(42)\n",
        "    all_trajectories = []\n",
        "    for _ in range(trajectories):\n",
        "        particles = [1]\n",
        "        for day in range(1, days+1):\n",
        "            new_particles = 0\n",
        "            for _ in range(particles[-1]):\n",
        "                offspring = np.random.geometric(p=1/(mu + 1)) - 1\n",
        "                new_particles += offspring\n",
        "            particles.append(new_particles)\n",
        "        all_trajectories.append(particles)\n",
        "    return all_trajectories\n",
        "\n",
        "trajectories = simulate_branching_process(mu_estimate, days=30, trajectories=5)\n",
        "\n",
        "plt.figure(figsize=(12, 6))\n",
        "for i, traj in enumerate(trajectories):\n",
        "    plt.plot(traj, label=f'Траектория {i+1}')\n",
        "plt.title('Моделирование ветвящегося процесса')\n",
        "plt.xlabel('День')\n",
        "plt.ylabel('Число частиц')\n",
        "plt.legend()\n",
        "plt.grid()\n",
        "plt.show()"
      ],
      "metadata": {
        "colab": {
          "base_uri": "https://localhost:8080/",
          "height": 564
        },
        "id": "lBeFzcXXHpTo",
        "outputId": "dec213e7-c9b2-4dc7-b56b-9a43558a0b34"
      },
      "execution_count": 12,
      "outputs": [
        {
          "output_type": "display_data",
          "data": {
            "text/plain": [
              "<Figure size 1200x600 with 1 Axes>"
            ],
            "image/png": "[encoded data removed]"
          },
          "metadata": {}
        }
      ]
    },
    {
      "cell_type": "markdown",
      "source": [
        "# Сравнение с реальными данными"
      ],
      "metadata": {
        "id": "i1oCfsxNHu6e"
      }
    },
    {
      "cell_type": "code",
      "source": [
        "average_trajectory = np.mean(trajectories, axis=0)\n",
        "plt.figure(figsize=(12, 6))\n",
        "plt.plot(average_trajectory, label='Усредненная траектория', color='blue', linewidth=2)\n",
        "plt.plot(normalized_infected, label='Реальные данные', color='red', linestyle='--')\n",
        "plt.title('Сравнение усредненной траектории с реальными данными')\n",
        "plt.xlabel('День')\n",
        "plt.ylabel('Число частиц')\n",
        "plt.legend()\n",
        "plt.grid()\n",
        "plt.show()"
      ],
      "metadata": {
        "colab": {
          "base_uri": "https://localhost:8080/",
          "height": 564
        },
        "id": "Gb79LS8CHxxv",
        "outputId": "6af7f52c-fd94-408f-aa1f-c9393ec960e3"
      },
      "execution_count": 13,
      "outputs": [
        {
          "output_type": "display_data",
          "data": {
            "text/plain": [
              "<Figure size 1200x600 with 1 Axes>"
            ],
            "image/png": "[encoded data removed]"
          },
          "metadata": {}
        }
      ]
    }
  ]
}